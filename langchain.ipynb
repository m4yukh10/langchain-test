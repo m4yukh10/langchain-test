{
 "cells": [
  {
   "cell_type": "code",
   "execution_count": 1,
   "id": "8599f354",
   "metadata": {},
   "outputs": [],
   "source": [
    "import getpass\n",
    "import os\n",
    "from langchain_core.messages import HumanMessage\n",
    "from langchain.chat_models import init_chat_model\n",
    "from langchain_core.messages import AIMessage"
   ]
  },
  {
   "cell_type": "code",
   "execution_count": 4,
   "id": "c837442d",
   "metadata": {},
   "outputs": [
    {
     "name": "stdout",
     "output_type": "stream",
     "text": [
      "content='Your name is Bob!' additional_kwargs={} response_metadata={'token_usage': {'completion_tokens': 6, 'prompt_tokens': 40, 'total_tokens': 46, 'completion_time': 0.005669992, 'prompt_time': 0.009461537, 'queue_time': 0.38616371099999997, 'total_time': 0.015131529}, 'model_name': 'llama3-8b-8192', 'system_fingerprint': 'fp_0fb809dba3', 'service_tier': 'on_demand', 'finish_reason': 'stop', 'logprobs': None} id='run--25815a36-a958-4ca5-9279-ca9aaebbd9ce-0' usage_metadata={'input_tokens': 40, 'output_tokens': 6, 'total_tokens': 46}\n"
     ]
    }
   ],
   "source": [
    "if not os.environ.get(\"GROQ_API_KEY\"):\n",
    "  os.environ[\"GROQ_API_KEY\"] = getpass.getpass(\"Enter API key for Groq: \")\n",
    "\n",
    "model = init_chat_model(\"llama3-8b-8192\", model_provider=\"groq\")\n",
    "\n",
    "\n",
    "\n",
    "response = model.invoke([\n",
    "    HumanMessage(content=\"Hi! I'm Bob\"),\n",
    "    AIMessage(content=\"Hi Bob! It's nice to meet you.\"),\n",
    "    HumanMessage(content=\"What is my name?\"),\n",
    "])\n",
    "print(response)"
   ]
  },
  {
   "cell_type": "code",
   "execution_count": 7,
   "id": "dcad20c4",
   "metadata": {},
   "outputs": [],
   "source": [
    "from langgraph.graph import StateGraph, START, END, MessagesState\n",
    "from langgraph.checkpoint.memory import MemorySaver\n",
    "\n",
    "workflow = StateGraph(state_schema=MessagesState)"
   ]
  },
  {
   "cell_type": "code",
   "execution_count": 8,
   "id": "4e1d64a5",
   "metadata": {},
   "outputs": [],
   "source": [
    "def call_model(state: MessagesState):\n",
    "    response = model.invoke(state[\"messages\"])\n",
    "    return {\"messages\":response}\n"
   ]
  },
  {
   "cell_type": "code",
   "execution_count": 9,
   "id": "3dfe77a2",
   "metadata": {},
   "outputs": [
    {
     "data": {
      "text/plain": [
       "<langgraph.graph.state.StateGraph at 0x1b5b3d106d0>"
      ]
     },
     "execution_count": 9,
     "metadata": {},
     "output_type": "execute_result"
    }
   ],
   "source": [
    "workflow.add_node(\"model\", call_model)\n",
    "workflow.add_edge(START, \"model\")\n",
    "workflow.add_edge(\"model\", END)\n"
   ]
  },
  {
   "cell_type": "code",
   "execution_count": 10,
   "id": "703cac70",
   "metadata": {},
   "outputs": [],
   "source": [
    "memory = MemorySaver()\n",
    "app = workflow.compile(checkpointer=memory)\n"
   ]
  },
  {
   "cell_type": "code",
   "execution_count": 11,
   "id": "d857cdeb",
   "metadata": {},
   "outputs": [],
   "source": [
    "config = {\"configurable\":{\"thread_id\":\"abc123\"}}"
   ]
  },
  {
   "cell_type": "code",
   "execution_count": 13,
   "id": "62bff993",
   "metadata": {},
   "outputs": [],
   "source": [
    "query = \"I am mayukh\"\n",
    "input_message = [HumanMessage(query)]\n",
    "output = app.invoke({\"messages\":input_message}, config)\n"
   ]
  },
  {
   "cell_type": "code",
   "execution_count": 16,
   "id": "53a6dc32",
   "metadata": {},
   "outputs": [
    {
     "name": "stdout",
     "output_type": "stream",
     "text": [
      "==================================\u001b[1m Ai Message \u001b[0m==================================\n",
      "\n",
      "Nice to meet you, Mayukh! Is there something I can help you with or would you like to chat about something in particular?\n"
     ]
    }
   ],
   "source": [
    "output[\"messages\"][-1].pretty_print()\n"
   ]
  },
  {
   "cell_type": "code",
   "execution_count": 17,
   "id": "19d8d1b8",
   "metadata": {},
   "outputs": [
    {
     "name": "stdout",
     "output_type": "stream",
     "text": [
      "==================================\u001b[1m Ai Message \u001b[0m==================================\n",
      "\n",
      "Your name is Mayukh!\n"
     ]
    }
   ],
   "source": [
    "query = \"what is my name?\"\n",
    "input_message = [HumanMessage(query)]\n",
    "output = app.invoke({\"messages\":input_message}, config)\n",
    "output[\"messages\"][-1].pretty_print()"
   ]
  }
 ],
 "metadata": {
  "kernelspec": {
   "display_name": "venv",
   "language": "python",
   "name": "python3"
  },
  "language_info": {
   "codemirror_mode": {
    "name": "ipython",
    "version": 3
   },
   "file_extension": ".py",
   "mimetype": "text/x-python",
   "name": "python",
   "nbconvert_exporter": "python",
   "pygments_lexer": "ipython3",
   "version": "3.11.4"
  }
 },
 "nbformat": 4,
 "nbformat_minor": 5
}
